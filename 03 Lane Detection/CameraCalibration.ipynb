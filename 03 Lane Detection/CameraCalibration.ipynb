{
  "nbformat": 4,
  "nbformat_minor": 0,
  "metadata": {
    "colab": {
      "name": "CameraCalibration.ipynb",
      "provenance": [],
      "authorship_tag": "ABX9TyPZjLW+anLHblH1sfaUE6bW",
      "include_colab_link": true
    },
    "kernelspec": {
      "name": "python3",
      "display_name": "Python 3"
    },
    "language_info": {
      "name": "python"
    }
  },
  "cells": [
    {
      "cell_type": "markdown",
      "metadata": {
        "id": "view-in-github",
        "colab_type": "text"
      },
      "source": [
        "<a href=\"https://colab.research.google.com/github/stormfireuttam/Major-Project/blob/main/03%20Lane%20Detection/CameraCalibration.ipynb\" target=\"_parent\"><img src=\"https://colab.research.google.com/assets/colab-badge.svg\" alt=\"Open In Colab\"/></a>"
      ]
    },
    {
      "cell_type": "code",
      "metadata": {
        "id": "Dv65SJ-TVuAF"
      },
      "source": [
        "import numpy as np\n",
        "import cv2\n",
        "import glob\n",
        "import matplotlib.image as mpimg\n",
        "import matplotlib.pyplot as plt\n",
        "\n",
        "class CameraCalibration():\n",
        "    \"\"\" Class that calibrate camera using chessboard images.\n",
        "\n",
        "    Attributes:\n",
        "        mtx (np.array): Camera matrix \n",
        "        dist (np.array): Distortion coefficients\n",
        "    \"\"\"\n",
        "    def __init__(self, image_dir, nx, ny, debug=False):\n",
        "        \"\"\" Init CameraCalibration.\n",
        "\n",
        "        Parameters:\n",
        "            image_dir (str): path to folder contains chessboard images\n",
        "            nx (int): width of chessboard (number of squares)\n",
        "            ny (int): height of chessboard (number of squares)\n",
        "        \"\"\"\n",
        "        fnames = glob.glob(\"{}/*\".format(image_dir))\n",
        "        objpoints = []\n",
        "        imgpoints = []\n",
        "        \n",
        "        # Coordinates of chessboard's corners in 3D\n",
        "        objp = np.zeros((nx*ny, 3), np.float32)\n",
        "        objp[:,:2] = np.mgrid[0:nx, 0:ny].T.reshape(-1, 2)\n",
        "        \n",
        "        # Go through all chessboard images\n",
        "        for f in fnames:\n",
        "            img = mpimg.imread(f)\n",
        "\n",
        "            # Convert to grayscale image\n",
        "            gray = cv2.cvtColor(img, cv2.COLOR_RGB2GRAY)\n",
        "\n",
        "            # Find chessboard corners\n",
        "            ret, corners = cv2.findChessboardCorners(img, (nx, ny))\n",
        "            if ret:\n",
        "                imgpoints.append(corners)\n",
        "                objpoints.append(objp)\n",
        "\n",
        "        shape = (img.shape[1], img.shape[0])\n",
        "        ret, self.mtx, self.dist, _, _ = cv2.calibrateCamera(objpoints, imgpoints, shape, None, None)\n",
        "\n",
        "        if not ret:\n",
        "            raise Exception(\"Unable to calibrate camera\")\n",
        "\n",
        "    def undistort(self, img):\n",
        "        \"\"\" Return undistort image.\n",
        "\n",
        "        Parameters:\n",
        "            img (np.array): Input image\n",
        "\n",
        "        Returns:\n",
        "            Image (np.array): Undistorted image\n",
        "        \"\"\"\n",
        "        # Convert to grayscale image\n",
        "        gray = cv2.cvtColor(img, cv2.COLOR_RGB2GRAY)\n",
        "        return cv2.undistort(img, self.mtx, self.dist, None, self.mtx)\n"
      ],
      "execution_count": null,
      "outputs": []
    }
  ]
}